{
  "nbformat": 4,
  "nbformat_minor": 0,
  "metadata": {
    "colab": {
      "provenance": [],
      "include_colab_link": true
    },
    "kernelspec": {
      "name": "python3",
      "display_name": "Python 3"
    },
    "language_info": {
      "name": "python"
    }
  },
  "cells": [
    {
      "cell_type": "markdown",
      "metadata": {
        "id": "view-in-github",
        "colab_type": "text"
      },
      "source": [
        "<a href=\"https://colab.research.google.com/github/samyrsp86/alura-obrai/blob/main/ObrAI_Conversas.ipynb\" target=\"_parent\"><img src=\"https://colab.research.google.com/assets/colab-badge.svg\" alt=\"Open In Colab\"/></a>"
      ]
    },
    {
      "cell_type": "code",
      "source": [
        "# Instala no notebook as ferramentas e funções necessárias para usar o SDK da IA Generativa do Google\n",
        "\n",
        "%pip -q install google-genai"
      ],
      "metadata": {
        "id": "UCCbECexLk_h"
      },
      "execution_count": null,
      "outputs": []
    },
    {
      "cell_type": "code",
      "source": [
        "# Configura a API Key do Google Gemini\n",
        "\n",
        "import os\n",
        "from google.colab import userdata\n",
        "\n",
        "os.environ[\"GOOGLE_API_KEY\"] = userdata.get('GOOGLE_API_KEY')"
      ],
      "metadata": {
        "id": "NfCqHo1tLk8P"
      },
      "execution_count": null,
      "outputs": []
    },
    {
      "cell_type": "code",
      "source": [
        "# Configura o cliente da SDK do Gemini\n",
        "\n",
        "from google import genai\n",
        "\n",
        "client = genai.Client()\n",
        "\n",
        "MODEL_ID = \"gemini-2.0-flash\""
      ],
      "metadata": {
        "id": "bV4w0H5TLk5g"
      },
      "execution_count": null,
      "outputs": []
    },
    {
      "cell_type": "code",
      "source": [
        "# Captura a imagem da URL informada pelo usurário\n",
        "from PIL import Image\n",
        "import requests\n",
        "import io\n",
        "from IPython.display import Image as DisplayImage # Importar com um nome diferente para evitar conflitos\n",
        "\n",
        "def exibir_imagem_do_colab(url):\n",
        "\n",
        "     try:\n",
        "         # Envia uma requisição GET para obter a imagem\n",
        "         resposta = requests.get(url)\n",
        "         resposta.raise_for_status()  # Lança uma exceção para códigos de status ruins\n",
        "\n",
        "\n",
        "         # Abre a imagem a partir do conteúdo da resposta\n",
        "         imagem_bytes = io.BytesIO(resposta.content)\n",
        "         imagem = Image.open(imagem_bytes)\n",
        "\n",
        "\n",
        "         # Exibe a imagem no Colab\n",
        "         DisplayImage(imagem) # Utilizo o nome 'DisplayImage' aqui\n",
        "         return imagem # Retorna o objeto Image para uso posterior, se necessário\n",
        "\n",
        "\n",
        "     except requests.exceptions.RequestException as e:\n",
        "         print(f\"Erro ao baixar a imagem da URL {url}: {e}\")\n",
        "         return None\n",
        "     except Exception as e:\n",
        "         print(f\"Erro ao abrir ou exibir a imagem: {e}\")\n",
        "         return None"
      ],
      "metadata": {
        "id": "htQaCVShXhvO"
      },
      "execution_count": null,
      "outputs": []
    },
    {
      "cell_type": "code",
      "source": [
        "# Fornece ao Gemini às instruções a serem consideradas na interpretação da imagem fornecida\n",
        "\n",
        "from google.genai import types\n",
        "\n",
        "def interpreta_nota_fiscal(imagem = None, resposta_inicial = None, consideracao_usuario = None):\n",
        "\n",
        "  chat_config = types.GenerateContentConfig(system_instruction = (\n",
        "                          \"\"\"Você receberá até três parâmetros, a url uma nota fiscal no formato de imagem ou pdf e possivelmente sua própria resposta,\n",
        "                          acompanhada uma consideração do usuário sobre interpretação da Nota Fiscal.\n",
        "\n",
        "                          Considerando os parâmetros recebidos, você deverá buscar neste arquivo as seguintes informações:\n",
        "                          Nome do fornecedor, Data da emissão, Número da nota fiscal, Descrição do produto ou serviço (restrito a um resumo de 50 caracteres, quando aplicável),\n",
        "                          Quantidade, Valor unitário.\n",
        "                          Entenda que há mais de um padrão de nota fiscal. A nota carioca de serviço, por exemplo, possui um padrão diferente e a informação do fornecedor\n",
        "                          poderá ser encontrada no campo \"Prestador de Serviços\", já a informação da Descrição do produto/serviço pode ser encontrada no campo \"Discriminação dos Serviços\".\n",
        "                          Caso seja um serviço deverá ser considerada apenas uma unidade.\n",
        "\n",
        "                          Você deverá confirmar com o usuário se os dados foram interpretados de forma correta.\n",
        "                          Caso não tenham, você deve solicitar auxílio do usuário nesta interpretação até que esteja correta.\n",
        "                          A sua resposta final deverá conter única e exclusivamente os itens interpretação, conforme modelo apresentado abaixo.\n",
        "\n",
        "                          Caso a nota fiscal possua mais de um item, você deve repetir os dados comuns para cada item, respeitando o template apresentado a seguir:\n",
        "\n",
        "                          ##### Item 1 #####\n",
        "\n",
        "                          Nome do fornecedor: FERRAGENS BUARQUE MACEDO EIRELLI\n",
        "                          Data de emissão: 16/01/2025\n",
        "                          Número da nota fiscal: 365045\n",
        "                          Descrição do produto/serviço: CANT.ALUM.TL C 3MT 1 2\n",
        "                          Quantidade: 2\n",
        "                          Valor unitário: 12,950000\n",
        "\n",
        "                          ##### Item 2 #####\n",
        "\n",
        "                          Nome do fornecedor: FERRAGENS BUARQUE MACEDO EIRELLI\n",
        "                          Data de emissão: 16/01/2025\n",
        "                          Número da nota fiscal: 365045\n",
        "                          Descrição do produto/serviço: TRI PARAF.PHI.C CHATA 2,5X25 11 4X4\n",
        "                          Quantidade: 10\n",
        "                          Valor unitário: 12,950000\n",
        "\n",
        "                          Se você não conseguir ler exatamente as informações da nota fiscal fornecida, deverá dizer: 'Não foi possível ler o arquivo!'\n",
        "                          Também deverá apresentar uma justificativa para não ter conseguido ler\"\"\"))\n",
        "\n",
        "  chat = client.chats.create(model = MODEL_ID, config= chat_config)\n",
        "\n",
        "  mensagem = imagem\n",
        "  if consideracao_usuario:\n",
        "    mensagem = f\"A sua resposta foi: {resposta_inicial}\\n\\nConsideração do usuário: {consideracao_usuario}\"\n",
        "\n",
        "  resposta = chat.send_message(mensagem)\n",
        "\n",
        "  return resposta.text"
      ],
      "metadata": {
        "id": "HwVP7Xi34Zuw"
      },
      "execution_count": null,
      "outputs": []
    },
    {
      "cell_type": "code",
      "source": [
        "# Instala Framework ADK de agentes do Google\n",
        "!pip install -q google-adk"
      ],
      "metadata": {
        "id": "hvZ3UnPI4jhJ",
        "colab": {
          "base_uri": "https://localhost:8080/"
        },
        "outputId": "15fb6209-2b64-4ff7-8ef1-a4d3624f39c7"
      },
      "execution_count": null,
      "outputs": [
        {
          "output_type": "stream",
          "name": "stdout",
          "text": [
            "\u001b[?25l   \u001b[90m━━━━━━━━━━━━━━━━━━━━━━━━━━━━━━━━━━━━━━━━\u001b[0m \u001b[32m0.0/1.2 MB\u001b[0m \u001b[31m?\u001b[0m eta \u001b[36m-:--:--\u001b[0m\r\u001b[2K   \u001b[91m━━━━━━━━━━━━━━━━━━━━━━━━━━━\u001b[0m\u001b[90m╺\u001b[0m\u001b[90m━━━━━━━━━━━━\u001b[0m \u001b[32m0.8/1.2 MB\u001b[0m \u001b[31m24.6 MB/s\u001b[0m eta \u001b[36m0:00:01\u001b[0m\r\u001b[2K   \u001b[90m━━━━━━━━━━━━━━━━━━━━━━━━━━━━━━━━━━━━━━━━\u001b[0m \u001b[32m1.2/1.2 MB\u001b[0m \u001b[31m19.8 MB/s\u001b[0m eta \u001b[36m0:00:00\u001b[0m\n",
            "\u001b[?25h\u001b[?25l   \u001b[90m━━━━━━━━━━━━━━━━━━━━━━━━━━━━━━━━━━━━━━━━\u001b[0m \u001b[32m0.0/232.1 kB\u001b[0m \u001b[31m?\u001b[0m eta \u001b[36m-:--:--\u001b[0m\r\u001b[2K   \u001b[90m━━━━━━━━━━━━━━━━━━━━━━━━━━━━━━━━━━━━━━━━\u001b[0m \u001b[32m232.1/232.1 kB\u001b[0m \u001b[31m15.5 MB/s\u001b[0m eta \u001b[36m0:00:00\u001b[0m\n",
            "\u001b[?25h\u001b[?25l   \u001b[90m━━━━━━━━━━━━━━━━━━━━━━━━━━━━━━━━━━━━━━━━\u001b[0m \u001b[32m0.0/95.2 kB\u001b[0m \u001b[31m?\u001b[0m eta \u001b[36m-:--:--\u001b[0m\r\u001b[2K   \u001b[90m━━━━━━━━━━━━━━━━━━━━━━━━━━━━━━━━━━━━━━━━\u001b[0m \u001b[32m95.2/95.2 kB\u001b[0m \u001b[31m7.3 MB/s\u001b[0m eta \u001b[36m0:00:00\u001b[0m\n",
            "\u001b[?25h\u001b[?25l   \u001b[90m━━━━━━━━━━━━━━━━━━━━━━━━━━━━━━━━━━━━━━━━\u001b[0m \u001b[32m0.0/217.1 kB\u001b[0m \u001b[31m?\u001b[0m eta \u001b[36m-:--:--\u001b[0m\r\u001b[2K   \u001b[90m━━━━━━━━━━━━━━━━━━━━━━━━━━━━━━━━━━━━━━━━\u001b[0m \u001b[32m217.1/217.1 kB\u001b[0m \u001b[31m17.2 MB/s\u001b[0m eta \u001b[36m0:00:00\u001b[0m\n",
            "\u001b[?25h\u001b[?25l   \u001b[90m━━━━━━━━━━━━━━━━━━━━━━━━━━━━━━━━━━━━━━━━\u001b[0m \u001b[32m0.0/334.1 kB\u001b[0m \u001b[31m?\u001b[0m eta \u001b[36m-:--:--\u001b[0m\r\u001b[2K   \u001b[90m━━━━━━━━━━━━━━━━━━━━━━━━━━━━━━━━━━━━━━━━\u001b[0m \u001b[32m334.1/334.1 kB\u001b[0m \u001b[31m25.5 MB/s\u001b[0m eta \u001b[36m0:00:00\u001b[0m\n",
            "\u001b[?25h\u001b[?25l   \u001b[90m━━━━━━━━━━━━━━━━━━━━━━━━━━━━━━━━━━━━━━━━\u001b[0m \u001b[32m0.0/125.1 kB\u001b[0m \u001b[31m?\u001b[0m eta \u001b[36m-:--:--\u001b[0m\r\u001b[2K   \u001b[90m━━━━━━━━━━━━━━━━━━━━━━━━━━━━━━━━━━━━━━━━\u001b[0m \u001b[32m125.1/125.1 kB\u001b[0m \u001b[31m10.2 MB/s\u001b[0m eta \u001b[36m0:00:00\u001b[0m\n",
            "\u001b[2K   \u001b[90m━━━━━━━━━━━━━━━━━━━━━━━━━━━━━━━━━━━━━━━━\u001b[0m \u001b[32m65.8/65.8 kB\u001b[0m \u001b[31m4.9 MB/s\u001b[0m eta \u001b[36m0:00:00\u001b[0m\n",
            "\u001b[2K   \u001b[90m━━━━━━━━━━━━━━━━━━━━━━━━━━━━━━━━━━━━━━━━\u001b[0m \u001b[32m119.0/119.0 kB\u001b[0m \u001b[31m9.2 MB/s\u001b[0m eta \u001b[36m0:00:00\u001b[0m\n",
            "\u001b[2K   \u001b[90m━━━━━━━━━━━━━━━━━━━━━━━━━━━━━━━━━━━━━━━━\u001b[0m \u001b[32m194.9/194.9 kB\u001b[0m \u001b[31m14.3 MB/s\u001b[0m eta \u001b[36m0:00:00\u001b[0m\n",
            "\u001b[2K   \u001b[90m━━━━━━━━━━━━━━━━━━━━━━━━━━━━━━━━━━━━━━━━\u001b[0m \u001b[32m62.5/62.5 kB\u001b[0m \u001b[31m4.6 MB/s\u001b[0m eta \u001b[36m0:00:00\u001b[0m\n",
            "\u001b[2K   \u001b[90m━━━━━━━━━━━━━━━━━━━━━━━━━━━━━━━━━━━━━━━━\u001b[0m \u001b[32m103.3/103.3 kB\u001b[0m \u001b[31m7.8 MB/s\u001b[0m eta \u001b[36m0:00:00\u001b[0m\n",
            "\u001b[2K   \u001b[90m━━━━━━━━━━━━━━━━━━━━━━━━━━━━━━━━━━━━━━━━\u001b[0m \u001b[32m44.4/44.4 kB\u001b[0m \u001b[31m3.1 MB/s\u001b[0m eta \u001b[36m0:00:00\u001b[0m\n",
            "\u001b[2K   \u001b[90m━━━━━━━━━━━━━━━━━━━━━━━━━━━━━━━━━━━━━━━━\u001b[0m \u001b[32m72.0/72.0 kB\u001b[0m \u001b[31m5.4 MB/s\u001b[0m eta \u001b[36m0:00:00\u001b[0m\n",
            "\u001b[?25h"
          ]
        }
      ]
    },
    {
      "cell_type": "code",
      "execution_count": null,
      "metadata": {
        "id": "aePV2bdfDeoW"
      },
      "outputs": [],
      "source": [
        "from google.adk.agents import Agent\n",
        "from google.adk.runners import Runner\n",
        "from google.adk.sessions import InMemorySessionService\n",
        "from google.genai import types  # Para criar conteúdos (Content e Part)\n",
        "import requests # Para fazer requisições HTTP\n",
        "import warnings\n",
        "\n",
        "warnings.filterwarnings(\"ignore\")"
      ]
    },
    {
      "cell_type": "code",
      "source": [
        "# Função auxiliar que envia uma mensagem para um agente via Runner e retorna a resposta final\n",
        "def call_agent(agent: Agent, message_text: str) -> str:\n",
        "    # Cria um serviço de sessão em memória\n",
        "    session_service = InMemorySessionService()\n",
        "    # Cria uma nova sessão (você pode personalizar os IDs conforme necessário)\n",
        "    session = session_service.create_session(app_name=agent.name, user_id=\"user1\", session_id=\"session1\")\n",
        "    # Cria um Runner para o agente\n",
        "    runner = Runner(agent=agent, app_name=agent.name, session_service=session_service)\n",
        "    # Cria o conteúdo da mensagem de entrada\n",
        "    content = types.Content(role=\"user\", parts=[types.Part(text=message_text)])\n",
        "\n",
        "    final_response = \"\"\n",
        "    # Itera assincronamente pelos eventos retornados durante a execução do agente\n",
        "    for event in runner.run(user_id=\"user1\", session_id=\"session1\", new_message=content):\n",
        "        if event.is_final_response():\n",
        "          for part in event.content.parts:\n",
        "            if part.text is not None:\n",
        "              final_response += part.text\n",
        "              final_response += \"\\n\"\n",
        "    return final_response"
      ],
      "metadata": {
        "id": "_xP4lWhsS5ko"
      },
      "execution_count": null,
      "outputs": []
    },
    {
      "cell_type": "code",
      "source": [
        "################################################\n",
        "# --- Agente 1: Categorizador de Gastos 1 --- #\n",
        "################################################\n",
        "def agente_categorizador_1(resultado_interpretacao, consideracao_usuario_categorizacao = None):\n",
        "    categorizador_1 = Agent(\n",
        "        name=\"agente_categorizador_1\",\n",
        "        model=\"gemini-2.0-flash\",\n",
        "        # Inserir as instruções do 1º Agente Categorizador\n",
        "        instruction=\"\"\"\n",
        "        Você é um categorizador de gastos. Você receberá como parâmetros os gastos contantes de uma nota fiscal e, possivelmente, as considerações do usuário sobre a sua tentativa de categorização.\n",
        "\n",
        "        Poderá ter um ou mais gastos nesta nota.\n",
        "        Sua função será adicionar o campo \"Tipo de Gasto 1\" para cada um dos itens (ou item) que lhe for informado.\n",
        "        Para isso você deverá classificar os itens seguindo, necessariamente, alguma das categorias a seguir:\n",
        "        Alvenaria\n",
        "        Hidraulica\n",
        "        Elétrica\n",
        "        Marcenaria\n",
        "        Móveis\n",
        "        Pintura\n",
        "        Eletrodomésticos\n",
        "        Caso não consiga classificar em nenhum destes itens, deverá colocar o rótulo Outras Despesas.\n",
        "\n",
        "        Você receberá os itens conforme a lista a seguir:\n",
        "\n",
        "        Item 1\n",
        "        Nome do fornecedor: FERRAGENS BUARQUE MACEDO EIRELLI\n",
        "        Data de emissão: 16/01/2025\n",
        "        Número da nota fiscal: 365045\n",
        "        Descrição do produto/serviço: TIJOLO 29X39\n",
        "        Quantidade: 200\n",
        "        Valor unitário: 12,950000\n",
        "\n",
        "        Item 2\n",
        "        Nome do fornecedor: FERRAGENS BUARQUE MACEDO EIRELLI\n",
        "        Data de emissão: 16/01/2025\n",
        "        Número da nota fiscal: 365045\n",
        "        Descrição do produto/serviço: TRI PARAF.PHI.C CHATA 2,5X25 11 4X4\n",
        "        Quantidade: 10\n",
        "        Valor unitário: 0,500000\n",
        "\n",
        "        Seguindo este exemplo o seu output deverá ser:\n",
        "\n",
        "        Item 1\n",
        "        Nome do fornecedor: FERRAGENS BUARQUE MACEDO EIRELLI\n",
        "        Data de emissão: 16/01/2025\n",
        "        Número da nota fiscal: 365045\n",
        "        Descrição do produto/serviço: TIJOLO 29X39\n",
        "        Quantidade: 200\n",
        "        Valor unitário: 12,950000\n",
        "        Tipo de Gasto 1: Alvenaria\n",
        "\n",
        "        Item 2\n",
        "        Nome do fornecedor: FERRAGENS BUARQUE MACEDO EIRELLI\n",
        "        Data de emissão: 16/01/2025\n",
        "        Número da nota fiscal: 365045\n",
        "        Descrição do produto/serviço: TRI PARAF.PHI.C CHATA 2,5X25 11 4X4\n",
        "        Quantidade: 10\n",
        "        Valor unitário: 0,500000\n",
        "        Tipo de Gasto 1: Outras Despesas\n",
        "\n",
        "        Você deverá solicitar a confirmação do usuário de que os dados foram classificados de forma correta.\n",
        "        Caso não tenham, você deve solicitar auxílio do usuário nesta primeira classificação até que a classificação esteja correta.\n",
        "        A sua resposta final deverá conter única e exclusivamente os itens da primeira classificação, conforme modelo apresentado acima.\n",
        "\n",
        "        \"\"\",\n",
        "        description=\"Agente que categoriza gastos em notas fiscais\",\n",
        "    )\n",
        "\n",
        "\n",
        "\n",
        "    if consideracao_usuario_categorizacao:\n",
        "      entrada_do_agente_categorizador_1 = f\"Os dados da Nota Fiscal: {resultado_interpretacao}\\n\\nConsideração do usuário: {consideracao_usuario_categorizacao}\"\n",
        "    else:\n",
        "      entrada_do_agente_categorizador_1 = f\"Os dados da Nota Fiscal:{resultado_interpretacao}\\n\"\n",
        "\n",
        "\n",
        "    # Executa o agente\n",
        "    dados_categorizados_1 = call_agent(categorizador_1, entrada_do_agente_categorizador_1)\n",
        "    return dados_categorizados_1"
      ],
      "metadata": {
        "id": "y3VO1uo5_ghO"
      },
      "execution_count": null,
      "outputs": []
    },
    {
      "cell_type": "code",
      "source": [
        "######################################\n",
        "# --- Agente 2: Categorizador 2 --- #\n",
        "######################################\n",
        "def agente_categorizador_2(dados_categorizados_1, consideracao_usuario_categorizacao_2 = None):\n",
        "    categorizador_2 = Agent(\n",
        "        name=\"agente_redator\",\n",
        "        model=\"gemini-2.0-flash\",\n",
        "        # Inserir as instruções do 2º Agente Categorizador\n",
        "        instruction=\"\"\"\n",
        "            Você é um agente categorizador. Sua função é analizar as informações oriundas de uma nota fiscal, que foram previamente\n",
        "            categorizadas no campo \"Tipo de Gasto 1\" e inserir o campo \"Tipo de Gasto 2\" que deverá receber um dos dois valores: \"Não Incorporável ao IR\" e \"Incorporável ao IR\".\n",
        "            Para realizar esta classificação, você deverá analisar os campos Descrição do produto/serviço e \"Tipo de Gasto 1\" com a finalidade de entender se aquele pode ou não ser\n",
        "            um gasto que pode ser incorporado ao valor venal do imóvel no momento da declaração do imposto de renda pessoa física.\n",
        "            É algo parecido com o que acontece na contabilidade gerencial, em que custos e despesas (OPEX) não podem ser incorporadas ao imobilizado e investimentos podem.\n",
        "            Em geral, itens que ficam soltos como eletrodomésticos e móveis não podem ser incorporados ao IR. Mas a marcenaria, por exemplo, pode ser incorporado.\n",
        "\n",
        "            Você receberá os itens conforme a lista a seguir:\n",
        "\n",
        "            Item 1\n",
        "            Nome do fornecedor: FERRAGENS BUARQUE MACEDO EIRELLI\n",
        "            Data de emissão: 16/01/2025\n",
        "            Número da nota fiscal: 365045\n",
        "            Descrição do produto/serviço: TIJOLO 29X39\n",
        "            Quantidade: 200\n",
        "            Valor unitário: 12,950000\n",
        "            Tipo de Gasto 1: Alvenaria\n",
        "\n",
        "            Item 2\n",
        "            Nome do fornecedor: FERRAGENS BUARQUE MACEDO EIRELLI\n",
        "            Data de emissão: 16/01/2025\n",
        "            Número da nota fiscal: 365045\n",
        "            Descrição do produto/serviço: TRI PARAF.PHI.C CHATA 2,5X25 11 4X4\n",
        "            Quantidade: 10\n",
        "            Valor unitário: 0,500000\n",
        "            Tipo de Gasto 1: Outras Despesas\n",
        "\n",
        "            Seguindo este exemplo o seu output deverá ser:\n",
        "\n",
        "            Item 1\n",
        "            Nome do fornecedor: FERRAGENS BUARQUE MACEDO EIRELLI\n",
        "            Data de emissão: 16/01/2025\n",
        "            Número da nota fiscal: 365045\n",
        "            Descrição do produto/serviço: TIJOLO 29X39\n",
        "            Quantidade: 200\n",
        "            Valor unitário: 12,950000\n",
        "            Tipo de Gasto 1: Alvenaria\n",
        "            Tipo de Gasto 2: Incorporável ao IR\n",
        "\n",
        "            Item 2\n",
        "            Nome do fornecedor: FERRAGENS BUARQUE MACEDO EIRELLI\n",
        "            Data de emissão: 16/01/2025\n",
        "            Número da nota fiscal: 365045\n",
        "            Descrição do produto/serviço: TRI PARAF.PHI.C CHATA 2,5X25 11 4X4\n",
        "            Quantidade: 10\n",
        "            Valor unitário: 0,500000\n",
        "            Tipo de Gasto 1: Outras Despesas\n",
        "            Tipo de Gasto 2: Não Incorporável ao IR\n",
        "\n",
        "            Você deverá solicitar a confirmação do usuário de que os dados foram classificados de forma correta.\n",
        "            Caso não tenham, você deve solicitar auxílio do usuário nesta segunda classificação.\n",
        "\n",
        "            \"\"\",\n",
        "        description=\"Agente que categoriza gastos em notas fiscais para fins de Imposto de Renda\"\n",
        "    )\n",
        "\n",
        "    if consideracao_usuario_categorizacao_2:\n",
        "      entrada_do_agente_categorizador_2 = f\"Os dados da Nota Fiscal: {dados_categorizados_1}\\n\\nConsideração do usuário: {consideracao_usuario_categorizacao_2}\"\n",
        "\n",
        "    else:\n",
        "      entrada_do_agente_categorizador_2 = f\"Itens constantes da Nota fiscal a ser analisada:{dados_categorizados_1}\\n\"\n",
        "\n",
        "\n",
        "    # Executa o agente\n",
        "    dados_categorizados_2 = call_agent(categorizador_2, entrada_do_agente_categorizador_2)\n",
        "    return dados_categorizados_2"
      ],
      "metadata": {
        "id": "uOqlg2TRLVh1"
      },
      "execution_count": null,
      "outputs": []
    },
    {
      "cell_type": "code",
      "source": [
        "##########################################\n",
        "# --- Agente 3: Gerador de JSon --- #\n",
        "##########################################\n",
        "def agente_gerador_json(dados_categorizados_2):\n",
        "    gerador_json = Agent(\n",
        "        name=\"agente_gerador_json\",\n",
        "        model=\"gemini-2.0-flash\",\n",
        "        # Inserir as instruções do Agente Gerador de Json\n",
        "        instruction=\"\"\"\n",
        "            Você é um gerador de json. Você receberá os dados classificados dos gastos de uma nota fiscal e deverá gerar o conteúdo de um arquivo json,\n",
        "            que será incorporado em um banco de dados. Seu output será apenas o arquivo json, que deverá sempre ter a mesma estrutura, conforme apresentado a seguir:\n",
        "            {\n",
        "                \"Nome do fornecedor\": \"FERRAGENS BUARQUE MACEDO EIRELLI\",\n",
        "                \"Data de emissão\": \"06/12/2024\",\n",
        "                \"Número da nota fiscal\": \"361735\",\n",
        "                \"Descrição do produto/serviço\": \"M COTOV.90 ROSC. 3 4\",\n",
        "                \"Quantidade\": 5,\n",
        "                \"Valor unitário\": 14.700000,\n",
        "                \"Tipo de Gasto 1\": \"Hidraulica\",\n",
        "                \"Tipo de Gasto 2\": \"Incorporável ao IR\"\n",
        "              }\n",
        "\n",
        "            \"\"\",\n",
        "        description=\"Agente gerador de json.\"\n",
        "    )\n",
        "    entrada_gerador_json = f\"Gerar json: {dados_categorizados_2}\"\n",
        "    # Executa o agente\n",
        "    arquivo_json = call_agent(gerador_json, entrada_gerador_json)\n",
        "    return arquivo_json"
      ],
      "metadata": {
        "id": "_aTb1SdkLeT6"
      },
      "execution_count": null,
      "outputs": []
    },
    {
      "cell_type": "code",
      "source": [
        "print(\"🪚🛠️🪛🧰 Iniciando o Sistema ObrAÍ 🪚🛠️🪛🧰\")\n",
        "\n",
        "# --- Obter a URL da imagem da Nota Fiscal  ---\n",
        "\n",
        "url_da_imagem = input(\"Por favor, insira a URL da Nota Fiscal que você deseja interpretar e confira o resultado ao final: \")\n",
        "\n",
        "# Exibe a imagem\n",
        "imagem = exibir_imagem_do_colab(url_da_imagem)\n",
        "\n",
        "# Verifica se a imagem foi aberta com sucesso e prossegue se sim\n",
        "if imagem:\n",
        "    print(\"Imagem exibida com sucesso no Colab.\")\n",
        "    # Obtém as dimensões da Imagem para verificar se foi devidamente carregada\n",
        "    largura, altura = imagem.size\n",
        "    print(f\"A imagem tem largura {largura} e altura {altura}.\")\n",
        "    # Inicia a função de interpretação da Nota Fiscal\n",
        "    resposta_interpretacao = interpreta_nota_fiscal(imagem)\n",
        "    print(resposta_interpretacao)\n",
        "\n",
        "# Questiona o usuário se o Agente interpretou corretamente a Nota Fiscal e entra no Loop para que a correção seja feita\n",
        "    resultado_interpretacao = input(\"Interpretei corretamente as Notas Fiscais? Caso negativo, apresente a justificativa, por favor \")\n",
        "\n",
        "    while resultado_interpretacao.lower().strip() not in \"sim\":\n",
        "      resposta_interpretacao = interpreta_nota_fiscal(resposta_inicial = resposta_interpretacao, consideracao_usuario = resultado_interpretacao)\n",
        "      print(resposta_interpretacao)\n",
        "      resultado_interpretacao = input(\"E agora, interpretei corretamente as Notas Fiscais? Caso negativo, apresente a justificativa, por favor \")\n",
        "\n",
        "else:\n",
        "    print(\"Não foi possível exibir a imagem.\")\n"
      ],
      "metadata": {
        "id": "630ummxz4myx"
      },
      "execution_count": null,
      "outputs": []
    },
    {
      "cell_type": "code",
      "source": [
        "# Lógica do sistema de agentes\n",
        "\n",
        "# Carrega os dados já processados da Nota Fiscal para que o Gemini faça a primeira rotina de classificação\n",
        "dados_categorizados_1 = agente_categorizador_1(resultado_interpretacao=resposta_interpretacao)\n",
        "print(\"\\n --- Resultado do Agente Categorizador 1 --- \\n\")\n",
        "print(dados_categorizados_1)\n",
        "\n",
        "# Questiona o usuário se o Agente categorizou conforme a natureza da despesa corretamente a Nota Fiscal e entra no Loop para que a correção seja feita\n",
        "resultado_categorizacao_1 = input(\"Categorizei corretamente as Notas Fiscais? Caso negativo, apresente a justificativa, por favor \")\n",
        "\n",
        "while resultado_categorizacao_1.lower().strip() not in \"sim\":\n",
        "  dados_categorizados_1 = agente_categorizador_1(resultado_interpretacao = resposta_interpretacao, consideracao_usuario_categorizacao = resultado_categorizacao_1)\n",
        "  print(\"\\n --- Resultado do Agente Categorizador 1 --- \\n\")\n",
        "  print(dados_categorizados_1)\n",
        "  resultado_categorizacao_1 = input(\"E agora, interpretei corretamente as Notas Fiscais? Caso negativo, apresente a justificativa, por favor \")\n",
        "\n"
      ],
      "metadata": {
        "id": "fiDzD_qR45Gh"
      },
      "execution_count": null,
      "outputs": []
    },
    {
      "cell_type": "code",
      "source": [
        "# Carrega os dados já processador e classificados para que o Gemini faça a segunda rotina de classificação\n",
        "dados_categorizados_2 = agente_categorizador_2(dados_categorizados_1 = dados_categorizados_1)\n",
        "print(\"\\n --- Resultado do Agente Categorizador 2 --- \\n\")\n",
        "print(dados_categorizados_2)\n",
        "\n",
        "# Questiona o usuário se o Agente categorizou conforme a possibilidade de incorporação ao valor do imóvel da despesa corretamente a Nota Fiscal e entra no Loop para que a correção seja feita\n",
        "resultado_categorizacao_2 = input(\"Categorizei corretamente as Notas Fiscais? Caso negativo, apresente a justificativa, por favor \")\n",
        "\n",
        "while resultado_categorizacao_2.lower().strip() not in \"sim\":\n",
        "  dados_categorizados_2 = agente_categorizador_2(dados_categorizados_1 = dados_categorizados_1, consideracao_usuario_categorizacao_2 = resultado_categorizacao_2)\n",
        "  print(\"\\n --- Resultado do Agente Categorizador 2 --- \\n\")\n",
        "  print(dados_categorizados_2)\n",
        "  resultado_categorizacao_2 = input(\"E agora, interpretei corretamente as Notas Fiscais? Caso negativo, apresente a justificativa, por favor \")"
      ],
      "metadata": {
        "id": "aoT9seUj46Tw"
      },
      "execution_count": null,
      "outputs": []
    },
    {
      "cell_type": "code",
      "source": [
        "# Carrega os dados totalmente classificados para que se gere o arquivo Json com os dados a serem, futuramente, incorporados ao Banco de Dados\n",
        "arquivo_json = agente_gerador_json(dados_categorizados_2=dados_categorizados_2)\n",
        "\n",
        "print(\"\\n --- Resultado do Agente Gerador de JSON --- \\n\")\n",
        "print(arquivo_json)\n",
        "print(\"----------------------------------------------------\")"
      ],
      "metadata": {
        "id": "e7FpP-fm49C3"
      },
      "execution_count": null,
      "outputs": []
    }
  ]
}